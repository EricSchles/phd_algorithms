{
 "cells": [
  {
   "cell_type": "code",
   "execution_count": 1,
   "id": "efb3f4ce",
   "metadata": {},
   "outputs": [],
   "source": [
    "from insertion_merge_sort import merge_sort as insert_merge_sort\n",
    "from merge_sort import mergesort"
   ]
  },
  {
   "cell_type": "code",
   "execution_count": 35,
   "id": "99562b2c",
   "metadata": {},
   "outputs": [
    {
     "name": "stdout",
     "output_type": "stream",
     "text": [
      "18.7 ns ± 0.152 ns per loop (mean ± std. dev. of 7 runs, 100000000 loops each)\n"
     ]
    }
   ],
   "source": [
    "%timeit mergesort"
   ]
  },
  {
   "cell_type": "code",
   "execution_count": 33,
   "id": "4dbbf8ea",
   "metadata": {},
   "outputs": [],
   "source": [
    "from functools import partial\n",
    "\n",
    "k = 20\n",
    "merge_sort = partial(insert_merge_sort, k)"
   ]
  },
  {
   "cell_type": "code",
   "execution_count": 36,
   "id": "8ccd677a",
   "metadata": {},
   "outputs": [
    {
     "name": "stdout",
     "output_type": "stream",
     "text": [
      "19.4 ns ± 0.0533 ns per loop (mean ± std. dev. of 7 runs, 10000000 loops each)\n"
     ]
    }
   ],
   "source": [
    "%timeit merge_sort"
   ]
  },
  {
   "cell_type": "code",
   "execution_count": null,
   "id": "12e525b4",
   "metadata": {},
   "outputs": [],
   "source": []
  }
 ],
 "metadata": {
  "kernelspec": {
   "display_name": "Python 3",
   "language": "python",
   "name": "python3"
  },
  "language_info": {
   "codemirror_mode": {
    "name": "ipython",
    "version": 3
   },
   "file_extension": ".py",
   "mimetype": "text/x-python",
   "name": "python",
   "nbconvert_exporter": "python",
   "pygments_lexer": "ipython3",
   "version": "3.9.5"
  }
 },
 "nbformat": 4,
 "nbformat_minor": 5
}
